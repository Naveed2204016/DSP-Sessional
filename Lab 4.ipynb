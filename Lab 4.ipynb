{
 "cells": [
  {
   "cell_type": "code",
   "execution_count": 1,
   "id": "f56f108c-d3f3-4294-9f2c-6ebf39e7fbac",
   "metadata": {},
   "outputs": [],
   "source": [
    "import numpy as np\n",
    "import pandas as pd"
   ]
  },
  {
   "cell_type": "code",
   "execution_count": 2,
   "id": "8e61a9fa-315b-4590-99c0-9eb74eb92c2b",
   "metadata": {},
   "outputs": [],
   "source": [
    "from matplotlib import pyplot as plt"
   ]
  },
  {
   "cell_type": "code",
   "execution_count": 3,
   "id": "5c174c34-8960-45cd-bcc2-12f0fafef9d8",
   "metadata": {},
   "outputs": [],
   "source": [
    "x=[1,2,-1,3,4]"
   ]
  },
  {
   "cell_type": "code",
   "execution_count": 4,
   "id": "13625e60-4472-491d-8cc2-0cfb4519b2ad",
   "metadata": {},
   "outputs": [],
   "source": [
    "def ztransform(x,z):\n",
    "    X=0\n",
    "    for i in range(len(x)):\n",
    "        if(i==len(x)-1):\n",
    "            print(x[i],\"*z**\",-i,end=\"\")\n",
    "        else:\n",
    "            print(x[i],\"*z**\",-i,\"+\",end=\" \")\n",
    "        X=X+x[i]*(z**-i)\n",
    "    return X\n",
    "        "
   ]
  },
  {
   "cell_type": "code",
   "execution_count": 5,
   "id": "f85efed3-8b42-4b2e-9658-0d79970a5c49",
   "metadata": {},
   "outputs": [
    {
     "name": "stdout",
     "output_type": "stream",
     "text": [
      "1 *z** 0 + 2 *z** -1 + -1 *z** -2 + 3 *z** -3 + 4 *z** -4\n",
      " 9.0\n"
     ]
    }
   ],
   "source": [
    "z=1\n",
    "X=ztransform(x,z)\n",
    "print(\"\\n\",X)"
   ]
  },
  {
   "cell_type": "code",
   "execution_count": 8,
   "id": "bb95fb16-d7ea-4c25-82ac-f4b9f8c1aa94",
   "metadata": {},
   "outputs": [],
   "source": [
    "z=[0.5,1,2,3.5]\n",
    "x1=[2,4,5,7,0,1]"
   ]
  },
  {
   "cell_type": "code",
   "execution_count": 24,
   "id": "04f2105f-581e-4b11-a86b-30400b74ed35",
   "metadata": {},
   "outputs": [],
   "source": [
    "\n",
    "def func(x,z,origin):\n",
    "    X=0\n",
    "    for i in range(0,len(x),1):\n",
    "        if(i==len(x)-1):\n",
    "             print(x[i],\"*z**\",-(i-origin),end=\"\")\n",
    "        else:\n",
    "             print(x[i],\"*z**\",-(i-origin),\"+\",end=\" \")\n",
    "        X=X+x[i]*(z**-(i-origin))\n",
    "    return X"
   ]
  },
  {
   "cell_type": "code",
   "execution_count": 25,
   "id": "9a57e40d-db0e-4741-8b4b-df9c1369888b",
   "metadata": {},
   "outputs": [
    {
     "name": "stdout",
     "output_type": "stream",
     "text": [
      "2 *z** 2 + 4 *z** 1 + 5 *z** 0 + 7 *z** -1 + 0 *z** -2 + 1 *z** -3\n",
      " 29.5\n",
      "2 *z** 2 + 4 *z** 1 + 5 *z** 0 + 7 *z** -1 + 0 *z** -2 + 1 *z** -3\n",
      " 19.0\n",
      "2 *z** 2 + 4 *z** 1 + 5 *z** 0 + 7 *z** -1 + 0 *z** -2 + 1 *z** -3\n",
      " 24.625\n",
      "2 *z** 2 + 4 *z** 1 + 5 *z** 0 + 7 *z** -1 + 0 *z** -2 + 1 *z** -3\n",
      " 45.52332361516035\n"
     ]
    }
   ],
   "source": [
    "for i in range(len(z)):\n",
    "    X=func(x1,z[i],2)\n",
    "    print(\"\\n\",X)"
   ]
  },
  {
   "cell_type": "code",
   "execution_count": null,
   "id": "183e7b5a-95b8-4c0c-ad08-a54fa0169dfe",
   "metadata": {},
   "outputs": [],
   "source": []
  }
 ],
 "metadata": {
  "kernelspec": {
   "display_name": "Python [conda env:base] *",
   "language": "python",
   "name": "conda-base-py"
  },
  "language_info": {
   "codemirror_mode": {
    "name": "ipython",
    "version": 3
   },
   "file_extension": ".py",
   "mimetype": "text/x-python",
   "name": "python",
   "nbconvert_exporter": "python",
   "pygments_lexer": "ipython3",
   "version": "3.12.7"
  }
 },
 "nbformat": 4,
 "nbformat_minor": 5
}
