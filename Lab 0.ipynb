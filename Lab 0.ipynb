{
 "cells": [
  {
   "cell_type": "markdown",
   "id": "84298cf7-70f7-49d5-a583-ea2624c6b6fc",
   "metadata": {},
   "source": [
    "<h1>Printing in Python</h1>"
   ]
  },
  {
   "cell_type": "code",
   "execution_count": 1,
   "id": "9a939c7a-61a5-47f1-9480-cb866cce463d",
   "metadata": {},
   "outputs": [
    {
     "name": "stdout",
     "output_type": "stream",
     "text": [
      "Cuet\n"
     ]
    }
   ],
   "source": [
    "name='Cuet'\n",
    "print(name)"
   ]
  },
  {
   "cell_type": "code",
   "execution_count": 10,
   "id": "d3caa004-e1d6-4f47-b367-123373fcf56b",
   "metadata": {},
   "outputs": [
    {
     "name": "stdout",
     "output_type": "stream",
     "text": [
      "Enter your name\n"
     ]
    },
    {
     "name": "stdin",
     "output_type": "stream",
     "text": [
      " naveed\n"
     ]
    },
    {
     "name": "stdout",
     "output_type": "stream",
     "text": [
      "your name is: naveed\n",
      "Enter your id\n"
     ]
    },
    {
     "name": "stdin",
     "output_type": "stream",
     "text": [
      " 22\n"
     ]
    },
    {
     "name": "stdout",
     "output_type": "stream",
     "text": [
      "your id is: 22\n",
      "your name is naveed and your id is 22\n"
     ]
    }
   ],
   "source": [
    "print('Enter your name')\n",
    "x=input()\n",
    "print('your name is: {}'.format(x))\n",
    "print('Enter your id')\n",
    "y=int(input())\n",
    "print('your id is: {}'.format(y))\n",
    "print('your name is {0} and your id is {1}'.format(x,y))"
   ]
  },
  {
   "cell_type": "markdown",
   "id": "e67e4e35-85e8-4b0c-a1cb-893881d26ca0",
   "metadata": {},
   "source": [
    "<h1>Data Type and Variable</h1>"
   ]
  },
  {
   "cell_type": "code",
   "execution_count": 12,
   "id": "1a325935-0e06-4553-b67c-a6ab8cb0c303",
   "metadata": {},
   "outputs": [
    {
     "name": "stdout",
     "output_type": "stream",
     "text": [
      "<class 'float'>\n",
      "<class 'complex'>\n",
      "<class 'str'>\n"
     ]
    }
   ],
   "source": [
    "x=10.5\n",
    "print(type(x))\n",
    "x=1+2j\n",
    "print(type(x))\n",
    "x='Linear Regression'\n",
    "print(type(x))"
   ]
  },
  {
   "cell_type": "code",
   "execution_count": 14,
   "id": "50cfaaa7-b166-485b-b2cc-70bc9fa48f0e",
   "metadata": {},
   "outputs": [
    {
     "name": "stdout",
     "output_type": "stream",
     "text": [
      "10 23\n"
     ]
    }
   ],
   "source": [
    "a=10\n",
    "b=23\n",
    "print(a,b)"
   ]
  },
  {
   "cell_type": "code",
   "execution_count": 18,
   "id": "a014256b-51cb-44df-823a-b9c9b2acc483",
   "metadata": {},
   "outputs": [
    {
     "name": "stdout",
     "output_type": "stream",
     "text": [
      "This is 10\n"
     ]
    }
   ],
   "source": [
    "print('This is '+str(a))"
   ]
  },
  {
   "cell_type": "code",
   "execution_count": 19,
   "id": "9c85c973-4b3c-4373-ba5b-8daee1f3c18e",
   "metadata": {},
   "outputs": [
    {
     "name": "stdout",
     "output_type": "stream",
     "text": [
      "This is 10 and this is 23\n"
     ]
    }
   ],
   "source": [
    "print(f\"This is {a} and this is {b}\")"
   ]
  },
  {
   "cell_type": "code",
   "execution_count": 22,
   "id": "26661d27-a246-4e72-af7a-e558f9ce77cf",
   "metadata": {},
   "outputs": [
    {
     "name": "stdout",
     "output_type": "stream",
     "text": [
      "SVM 10 23.3\n",
      "String SVM Integer 10 Float 23.3\n",
      "String SVM Integer 10 Float 23.3\n"
     ]
    }
   ],
   "source": [
    "l,m,k='SVM',10,23.3\n",
    "print(l,m,k)\n",
    "\n",
    "print('String '+l+' Integer '+str(m)+' Float '+str(k))\n",
    "print('String {} Integer {} Float {}'.format(l,m,k))"
   ]
  },
  {
   "cell_type": "code",
   "execution_count": 47,
   "id": "6788354f-db1b-417b-9375-8940b6c89f2e",
   "metadata": {},
   "outputs": [
    {
     "name": "stdout",
     "output_type": "stream",
     "text": [
      "H\n",
      "llo\n",
      "llo World\n",
      "Hello WorldHello World\n",
      "Hello World Text\n"
     ]
    }
   ],
   "source": [
    "str1='Hello World'\n",
    "print(str1[0])\n",
    "print(str1[2:5]) #5 is not concluded\n",
    "print(str1[2:])\n",
    "print(str1 *2)\n",
    "print(str1+' Text')"
   ]
  },
  {
   "cell_type": "code",
   "execution_count": 33,
   "id": "5b74079d-dede-41b7-8eb4-9d4b69b4b49a",
   "metadata": {},
   "outputs": [
    {
     "data": {
      "text/plain": [
       "''"
      ]
     },
     "execution_count": 33,
     "metadata": {},
     "output_type": "execute_result"
    }
   ],
   "source": [
    "str1[2:2]"
   ]
  },
  {
   "cell_type": "markdown",
   "id": "b26b9ebb-4a48-48c7-8581-7d1c562938a0",
   "metadata": {},
   "source": [
    "<h1>Operators</h1>"
   ]
  },
  {
   "cell_type": "code",
   "execution_count": 37,
   "id": "65ef2ba6-9c88-429f-8f80-3fa59f814b42",
   "metadata": {},
   "outputs": [
    {
     "name": "stdout",
     "output_type": "stream",
     "text": [
      "125\n",
      "2\n"
     ]
    }
   ],
   "source": [
    "x,y=5,3\n",
    "print(x**y)\n",
    "print(x%y)"
   ]
  },
  {
   "cell_type": "code",
   "execution_count": 38,
   "id": "f8163aa1-d049-47fc-af74-134a164d9b7b",
   "metadata": {},
   "outputs": [
    {
     "data": {
      "text/plain": [
       "1.7099759466766968"
      ]
     },
     "execution_count": 38,
     "metadata": {},
     "output_type": "execute_result"
    }
   ],
   "source": [
    "5**(1/3)"
   ]
  },
  {
   "cell_type": "code",
   "execution_count": 40,
   "id": "3f8a4398-8978-492a-9f71-a72b7557b6cf",
   "metadata": {},
   "outputs": [
    {
     "name": "stdout",
     "output_type": "stream",
     "text": [
      "False True True False True False\n"
     ]
    }
   ],
   "source": [
    "print(x<y,x>y,x!=y,x==y,x>=y,x<=y)"
   ]
  },
  {
   "cell_type": "code",
   "execution_count": 43,
   "id": "e672b5fe-d87c-40b9-b4e7-45db67859616",
   "metadata": {},
   "outputs": [
    {
     "data": {
      "text/plain": [
       "3"
      ]
     },
     "execution_count": 43,
     "metadata": {},
     "output_type": "execute_result"
    }
   ],
   "source": [
    "f1,f2=7,2\n",
    "f1//=f2\n",
    "f1"
   ]
  },
  {
   "cell_type": "code",
   "execution_count": 46,
   "id": "f632b9ef-96b6-4b66-b0e9-940df14b501a",
   "metadata": {},
   "outputs": [
    {
     "data": {
      "text/plain": [
       "True"
      ]
     },
     "execution_count": 46,
     "metadata": {},
     "output_type": "execute_result"
    }
   ],
   "source": [
    "not(7>11 or 6>10)"
   ]
  },
  {
   "cell_type": "code",
   "execution_count": 49,
   "id": "3a9639c1-0fca-4025-af4f-1990faab195b",
   "metadata": {},
   "outputs": [
    {
     "name": "stdout",
     "output_type": "stream",
     "text": [
      "1\n",
      "2\n",
      "3\n",
      "4\n",
      "5\n"
     ]
    }
   ],
   "source": [
    "arr=[1,2,3,4,5]\n",
    "for nums in arr:\n",
    "    print(nums)\n"
   ]
  },
  {
   "cell_type": "markdown",
   "id": "9eb6a7d8-cd1a-47e2-a387-4e78d994dd0f",
   "metadata": {},
   "source": [
    "<h1>IF ELSE</h1>"
   ]
  },
  {
   "cell_type": "code",
   "execution_count": 51,
   "id": "ec7fecd2-6994-4dec-af74-7650a14f1143",
   "metadata": {},
   "outputs": [
    {
     "name": "stdout",
     "output_type": "stream",
     "text": [
      "Logistic Regression works better\n"
     ]
    }
   ],
   "source": [
    "accuracy_score_for_DecisionTree=63.4\n",
    "accuracy_score_for_LogisticRegression=77.8\n",
    "if(accuracy_score_for_DecisionTree>accuracy_score_for_LogisticRegression):\n",
    "    print(\"Decision Tree works better\")\n",
    "elif(accuracy_score_for_DecisionTree<accuracy_score_for_LogisticRegression):\n",
    "    print(\"Logistic Regression works better\")\n",
    "else:\n",
    "    print(\"Both Algorithms work same\")"
   ]
  },
  {
   "cell_type": "code",
   "execution_count": 55,
   "id": "f61e0083-b15d-4df2-95ad-a64b5bedd467",
   "metadata": {},
   "outputs": [
    {
     "name": "stdout",
     "output_type": "stream",
     "text": [
      "b is greater than a\n"
     ]
    }
   ],
   "source": [
    "a,b=30,40\n",
    "print('a is greater than b') if a>b else print('a and b are equal') if a==b else print('b is greater than a')"
   ]
  },
  {
   "cell_type": "markdown",
   "id": "ad75dbbc-f311-46b5-b81e-352c2a7ee09c",
   "metadata": {},
   "source": [
    "<h1>Loop</h1>"
   ]
  },
  {
   "cell_type": "code",
   "execution_count": 56,
   "id": "ac32d658-7856-4742-972c-8798bcf24dca",
   "metadata": {},
   "outputs": [
    {
     "name": "stdout",
     "output_type": "stream",
     "text": [
      "15\n"
     ]
    }
   ],
   "source": [
    "sum=0\n",
    "for i in range(5,0,-1):\n",
    "    sum+=i\n",
    "print(sum)"
   ]
  },
  {
   "cell_type": "code",
   "execution_count": 57,
   "id": "715ab467-8839-4b82-a344-eab73515c502",
   "metadata": {},
   "outputs": [
    {
     "name": "stdout",
     "output_type": "stream",
     "text": [
      "O\n",
      "n\n",
      "e\n",
      "H\n",
      "o\n",
      "t\n",
      "E\n",
      "n\n",
      "c\n",
      "o\n",
      "d\n",
      "i\n",
      "n\n",
      "g\n"
     ]
    }
   ],
   "source": [
    "str1='OneHotEncoding'\n",
    "for letters in str1:\n",
    "    print(letters )\n"
   ]
  },
  {
   "cell_type": "markdown",
   "id": "8c800970-8970-4867-8f00-ae007901226f",
   "metadata": {},
   "source": [
    "<h1>Lists</h1>"
   ]
  },
  {
   "cell_type": "code",
   "execution_count": 61,
   "id": "79b8b5df-074b-4ff9-bbf7-a4a2803b9792",
   "metadata": {},
   "outputs": [
    {
     "name": "stdout",
     "output_type": "stream",
     "text": [
      "Current fruit:  Apple\n",
      "Current fruit:  Banana\n",
      "Current fruit:  WaterMelon\n",
      "Current fruit: Apple current index :0\n",
      "Current fruit: Banana current index :1\n",
      "Current fruit: WaterMelon current index :2\n",
      "Current fruit is Apple and its index is 0\n",
      "Current fruit is Banana and its index is 1\n",
      "Current fruit is WaterMelon and its index is 2\n"
     ]
    },
    {
     "ename": "IndexError",
     "evalue": "list index out of range",
     "output_type": "error",
     "traceback": [
      "\u001b[1;31m---------------------------------------------------------------------------\u001b[0m",
      "\u001b[1;31mIndexError\u001b[0m                                Traceback (most recent call last)",
      "Cell \u001b[1;32mIn[61], line 7\u001b[0m\n\u001b[0;32m      5\u001b[0m     \u001b[38;5;28mprint\u001b[39m(\u001b[38;5;124mf\u001b[39m\u001b[38;5;124m\"\u001b[39m\u001b[38;5;124mCurrent fruit: \u001b[39m\u001b[38;5;132;01m{\u001b[39;00mfruit\u001b[38;5;132;01m}\u001b[39;00m\u001b[38;5;124m current index :\u001b[39m\u001b[38;5;132;01m{\u001b[39;00mindex\u001b[38;5;132;01m}\u001b[39;00m\u001b[38;5;124m\"\u001b[39m)\n\u001b[0;32m      6\u001b[0m \u001b[38;5;28;01mfor\u001b[39;00m index \u001b[38;5;129;01min\u001b[39;00m \u001b[38;5;28mrange\u001b[39m(\u001b[38;5;28mlen\u001b[39m(fruit)\u001b[38;5;241m-\u001b[39m\u001b[38;5;241m1\u001b[39m):\n\u001b[1;32m----> 7\u001b[0m     \u001b[38;5;28mprint\u001b[39m(\u001b[38;5;124mf\u001b[39m\u001b[38;5;124m\"\u001b[39m\u001b[38;5;124mCurrent fruit is \u001b[39m\u001b[38;5;132;01m{\u001b[39;00mfruits[index]\u001b[38;5;132;01m}\u001b[39;00m\u001b[38;5;124m and its index is \u001b[39m\u001b[38;5;132;01m{\u001b[39;00mindex\u001b[38;5;132;01m}\u001b[39;00m\u001b[38;5;124m\"\u001b[39m)\n",
      "\u001b[1;31mIndexError\u001b[0m: list index out of range"
     ]
    }
   ],
   "source": [
    "fruits=['Apple','Banana','WaterMelon']\n",
    "for fruit in fruits:\n",
    "    print(\"Current fruit: \",fruit)\n",
    "for index,fruit in enumerate(fruits):\n",
    "    print(f\"Current fruit: {fruit} current index :{index}\")\n",
    "for index in range(len(fruit)):\n",
    "    print(f\"Current fruit is {fruits[index]} and its index is {index}\")"
   ]
  },
  {
   "cell_type": "code",
   "execution_count": 64,
   "id": "23441626-10aa-4e18-a271-16311708ab88",
   "metadata": {},
   "outputs": [
    {
     "name": "stdout",
     "output_type": "stream",
     "text": [
      "[1, [2, 4], 5]\n",
      "1\n",
      "[2, 4]\n",
      "5\n",
      "[4, 5, 6]\n",
      "4\n",
      "5\n",
      "6\n"
     ]
    }
   ],
   "source": [
    "list=[[1,[2,4],5],[4,5,6]]\n",
    "for lists in list:\n",
    "    print(lists)\n",
    "    for nums in lists:\n",
    "        print(nums)\n"
   ]
  },
  {
   "cell_type": "code",
   "execution_count": 65,
   "id": "1afc880e-e4e9-4435-8a88-f13015a1a112",
   "metadata": {},
   "outputs": [
    {
     "data": {
      "text/plain": [
       "['porche', 'bmw', 'mercedes', '991 turbo', '7 series', 's class']"
      ]
     },
     "execution_count": 65,
     "metadata": {},
     "output_type": "execute_result"
    }
   ],
   "source": [
    "a=['porche','bmw','mercedes']\n",
    "b=['991 turbo','7 series','s class']\n",
    "a+b"
   ]
  },
  {
   "cell_type": "code",
   "execution_count": 66,
   "id": "08d42dc3-7e0e-4ff5-ba83-54924e0ca3e2",
   "metadata": {},
   "outputs": [],
   "source": [
    "a.append('Range Rover')"
   ]
  },
  {
   "cell_type": "code",
   "execution_count": 67,
   "id": "10866fad-2d41-45e8-b65e-88338a485209",
   "metadata": {},
   "outputs": [
    {
     "data": {
      "text/plain": [
       "['porche', 'bmw', 'mercedes', 'Range Rover']"
      ]
     },
     "execution_count": 67,
     "metadata": {},
     "output_type": "execute_result"
    }
   ],
   "source": [
    "a"
   ]
  },
  {
   "cell_type": "code",
   "execution_count": 68,
   "id": "c9bc0c0a-a341-4c3d-a259-5658269243a5",
   "metadata": {},
   "outputs": [],
   "source": [
    "a.insert(1,'Rollce Royce')"
   ]
  },
  {
   "cell_type": "code",
   "execution_count": 69,
   "id": "859da76d-67f3-40b8-8784-db7ea5dd5ed5",
   "metadata": {},
   "outputs": [
    {
     "data": {
      "text/plain": [
       "['porche', 'Rollce Royce', 'bmw', 'mercedes', 'Range Rover']"
      ]
     },
     "execution_count": 69,
     "metadata": {},
     "output_type": "execute_result"
    }
   ],
   "source": [
    "a"
   ]
  },
  {
   "cell_type": "code",
   "execution_count": 70,
   "id": "acdd4e44-ddfc-4df2-ae87-a6cdc9b2261b",
   "metadata": {},
   "outputs": [
    {
     "data": {
      "text/plain": [
       "'Range Rover'"
      ]
     },
     "execution_count": 70,
     "metadata": {},
     "output_type": "execute_result"
    }
   ],
   "source": [
    "a[-1]"
   ]
  },
  {
   "cell_type": "code",
   "execution_count": 71,
   "id": "b207e15b-69b2-427f-9d1f-27f3e728363d",
   "metadata": {},
   "outputs": [
    {
     "name": "stdout",
     "output_type": "stream",
     "text": [
      "['Range Rover', 'mercedes', 'bmw', 'Rollce Royce', 'porche']\n"
     ]
    }
   ],
   "source": [
    "print(a[::-1])"
   ]
  },
  {
   "cell_type": "code",
   "execution_count": 74,
   "id": "3f76aeac-5b14-4992-aa22-8316d67c883c",
   "metadata": {},
   "outputs": [
    {
     "name": "stdout",
     "output_type": "stream",
     "text": [
      "['bmw', 'mercedes', 'Range Rover']\n"
     ]
    }
   ],
   "source": [
    "print(a[2:5])"
   ]
  },
  {
   "cell_type": "code",
   "execution_count": 75,
   "id": "5f7cf177-761d-4f69-941a-40a926b9970d",
   "metadata": {},
   "outputs": [
    {
     "name": "stdout",
     "output_type": "stream",
     "text": [
      "['porche', 'bmw', 'Range Rover']\n"
     ]
    }
   ],
   "source": [
    "print(a[::2])"
   ]
  },
  {
   "cell_type": "code",
   "execution_count": 76,
   "id": "6eecbf60-7400-4776-ad30-e65373d51610",
   "metadata": {},
   "outputs": [],
   "source": [
    "a.remove('Range Rover')"
   ]
  },
  {
   "cell_type": "code",
   "execution_count": 77,
   "id": "97c8c407-6f8e-4984-8a91-ca7c7649d537",
   "metadata": {},
   "outputs": [
    {
     "data": {
      "text/plain": [
       "['porche', 'Rollce Royce', 'bmw', 'mercedes']"
      ]
     },
     "execution_count": 77,
     "metadata": {},
     "output_type": "execute_result"
    }
   ],
   "source": [
    "a"
   ]
  },
  {
   "cell_type": "code",
   "execution_count": 78,
   "id": "0faba015-ea1f-48b4-bd61-7401316f5860",
   "metadata": {},
   "outputs": [],
   "source": [
    "a.insert(1,'Toyota')"
   ]
  },
  {
   "cell_type": "code",
   "execution_count": 80,
   "id": "595c2820-bc28-42e6-bbfb-73200989e5f3",
   "metadata": {},
   "outputs": [
    {
     "name": "stdout",
     "output_type": "stream",
     "text": [
      "[]\n"
     ]
    }
   ],
   "source": [
    "print(a[0:2:-1])"
   ]
  },
  {
   "cell_type": "code",
   "execution_count": null,
   "id": "fa39754c-8181-4c8e-871e-93cbfaf5cc76",
   "metadata": {},
   "outputs": [],
   "source": []
  }
 ],
 "metadata": {
  "kernelspec": {
   "display_name": "Python [conda env:base] *",
   "language": "python",
   "name": "conda-base-py"
  },
  "language_info": {
   "codemirror_mode": {
    "name": "ipython",
    "version": 3
   },
   "file_extension": ".py",
   "mimetype": "text/x-python",
   "name": "python",
   "nbconvert_exporter": "python",
   "pygments_lexer": "ipython3",
   "version": "3.12.7"
  }
 },
 "nbformat": 4,
 "nbformat_minor": 5
}
